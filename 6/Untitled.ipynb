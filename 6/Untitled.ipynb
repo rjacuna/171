{
 "cells": [
  {
   "cell_type": "code",
   "execution_count": 32,
   "metadata": {},
   "outputs": [
    {
     "data": {
      "text/plain": [
       "[(),\n",
       " (3,4,5),\n",
       " (3,5,4),\n",
       " (2,3)(4,5),\n",
       " (2,3,4),\n",
       " (2,3,5),\n",
       " (2,4,3),\n",
       " (2,4,5),\n",
       " (2,4)(3,5),\n",
       " (2,5,3),\n",
       " (2,5,4),\n",
       " (2,5)(3,4),\n",
       " (1,2)(4,5),\n",
       " (1,2)(3,4),\n",
       " (1,2)(3,5),\n",
       " (1,2,3),\n",
       " (1,2,3,4,5),\n",
       " (1,2,3,5,4),\n",
       " (1,2,4,5,3),\n",
       " (1,2,4),\n",
       " (1,2,4,3,5),\n",
       " (1,2,5,4,3),\n",
       " (1,2,5),\n",
       " (1,2,5,3,4),\n",
       " (1,3,2),\n",
       " (1,3,4,5,2),\n",
       " (1,3,5,4,2),\n",
       " (1,3)(4,5),\n",
       " (1,3,4),\n",
       " (1,3,5),\n",
       " (1,3)(2,4),\n",
       " (1,3,2,4,5),\n",
       " (1,3,5,2,4),\n",
       " (1,3)(2,5),\n",
       " (1,3,2,5,4),\n",
       " (1,3,4,2,5),\n",
       " (1,4,5,3,2),\n",
       " (1,4,2),\n",
       " (1,4,3,5,2),\n",
       " (1,4,3),\n",
       " (1,4,5),\n",
       " (1,4)(3,5),\n",
       " (1,4,5,2,3),\n",
       " (1,4)(2,3),\n",
       " (1,4,2,3,5),\n",
       " (1,4,2,5,3),\n",
       " (1,4,3,2,5),\n",
       " (1,4)(2,5),\n",
       " (1,5,4,3,2),\n",
       " (1,5,2),\n",
       " (1,5,3,4,2),\n",
       " (1,5,3),\n",
       " (1,5,4),\n",
       " (1,5)(3,4),\n",
       " (1,5,4,2,3),\n",
       " (1,5)(2,3),\n",
       " (1,5,2,3,4),\n",
       " (1,5,2,4,3),\n",
       " (1,5,3,2,4),\n",
       " (1,5)(2,4)]"
      ]
     },
     "execution_count": 32,
     "metadata": {},
     "output_type": "execute_result"
    }
   ],
   "source": [
    "  from sage.combinat.permutation import *                                                                                      \n",
    "  Permutations.options.display='cycle'   \n",
    "  Permutations.options.latex='cycle'   \n",
    "  S_5 = [Permutation(x) for x in Permutations(5).list() if x.is_even()]; S_5"
   ]
  },
  {
   "cell_type": "code",
   "execution_count": 34,
   "metadata": {},
   "outputs": [
    {
     "data": {
      "text/plain": [
       "(1,4,6,7)(2,5)"
      ]
     },
     "execution_count": 34,
     "metadata": {},
     "output_type": "execute_result"
    }
   ],
   "source": [
    "p = Permutation('(1, 4,6,7)(2, 5)'); p"
   ]
  },
  {
   "cell_type": "code",
   "execution_count": 19,
   "metadata": {},
   "outputs": [],
   "source": [
    "  def pow_perm(x,n):                                                                                     \n",
    "      b = x                                                                                              \n",
    "      c = 1                                                                                              \n",
    "      while (c < n):                                                                                     \n",
    "          b = x.right_action_product(b)                                                                  \n",
    "          c += 1                                                                                         \n",
    "      return b  "
   ]
  },
  {
   "cell_type": "code",
   "execution_count": 35,
   "metadata": {},
   "outputs": [
    {
     "data": {
      "text/plain": [
       "(1,6)(4,7)"
      ]
     },
     "execution_count": 35,
     "metadata": {},
     "output_type": "execute_result"
    }
   ],
   "source": [
    "pow_perm(p,14)"
   ]
  },
  {
   "cell_type": "code",
   "execution_count": 37,
   "metadata": {},
   "outputs": [
    {
     "data": {
      "text/plain": [
       "['(1,4,6,7)(2,5)^1 =  (1 \\\\; 4 \\\\; 6 \\\\; 7)(2 \\\\; 5)',\n",
       " '(1,4,6,7)(2,5)^2 =  (1 \\\\; 6)(4 \\\\; 7)',\n",
       " '(1,4,6,7)(2,5)^3 =  (1 \\\\; 7 \\\\; 6 \\\\; 4)(2 \\\\; 5)',\n",
       " '(1,4,6,7)(2,5)^4 =  ()']"
      ]
     },
     "execution_count": 37,
     "metadata": {},
     "output_type": "execute_result"
    }
   ],
   "source": [
    "[\"%s^%s =  %s\"%(p,n,latex(pow_perm(p,n))) for n in range(1,5)]"
   ]
  }
 ],
 "metadata": {
  "kernelspec": {
   "display_name": "SageMath 8.9",
   "language": "sage",
   "name": "sagemath"
  },
  "language_info": {
   "codemirror_mode": {
    "name": "ipython",
    "version": 2
   },
   "file_extension": ".py",
   "mimetype": "text/x-python",
   "name": "python",
   "nbconvert_exporter": "python",
   "pygments_lexer": "ipython2",
   "version": "2.7.15"
  }
 },
 "nbformat": 4,
 "nbformat_minor": 2
}
